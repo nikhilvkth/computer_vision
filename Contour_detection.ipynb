{
  "nbformat": 4,
  "nbformat_minor": 0,
  "metadata": {
    "colab": {
      "provenance": [],
      "authorship_tag": "ABX9TyOp1N3OPy1MJhXG0Y2W1e+o",
      "include_colab_link": true
    },
    "kernelspec": {
      "name": "python3",
      "display_name": "Python 3"
    },
    "language_info": {
      "name": "python"
    }
  },
  "cells": [
    {
      "cell_type": "markdown",
      "metadata": {
        "id": "view-in-github",
        "colab_type": "text"
      },
      "source": [
        "<a href=\"https://colab.research.google.com/github/nikhilvkth/computer_vision/blob/main/Contour_detection.ipynb\" target=\"_parent\"><img src=\"https://colab.research.google.com/assets/colab-badge.svg\" alt=\"Open In Colab\"/></a>"
      ]
    },
    {
      "cell_type": "code",
      "execution_count": null,
      "metadata": {
        "id": "e8oBzPLGNnGY"
      },
      "outputs": [],
      "source": [
        "import cv2\n",
        "import numpy as np\n",
        "\n",
        "def preprocess_image(image_path):\n",
        "    # Read the image\n",
        "    image = cv2.imread(image_path)\n",
        "\n",
        "    # Convert the image to grayscale\n",
        "    gray = cv2.cvtColor(image, cv2.COLOR_BGR2GRAY)\n",
        "\n",
        "    # Apply GaussianBlur to reduce noise\n",
        "    blurred = cv2.GaussianBlur(gray, (5, 5), 0)\n",
        "\n",
        "    return blurred\n",
        "\n",
        "def detect_cartridge_cases(image):\n",
        "    # Use thresholding technique to create a binary image\n",
        "    _, thresh = cv2.threshold(image, 120, 255, cv2.THRESH_BINARY_INV)\n",
        "\n",
        "    # Find contours in the binary image\n",
        "    contours, _ = cv2.findContours(thresh, cv2.RETR_EXTERNAL, cv2.CHAIN_APPROX_SIMPLE)\n",
        "\n",
        "    return contours\n",
        "\n",
        "def draw_contours(image, contours):\n",
        "    # Draw the contours on a copy of the original image\n",
        "    result = image.copy()\n",
        "    cv2.drawContours(result, contours, -1, (0, 255, 0), 2)\n",
        "\n",
        "    return result\n",
        "\n",
        "# Example usage\n",
        "image_path = '/Users/nikhilvalsankulangareth/Downloads/original_image_1.jpg'\n",
        "preprocessed_image = preprocess_image(image_path)\n",
        "cartridge_case_contours = detect_cartridge_cases(preprocessed_image)\n",
        "result_image = draw_contours(cv2.imread(image_path), cartridge_case_contours)\n",
        "\n",
        "# Display the original and result images\n",
        "cv2.imshow('Original Image', cv2.imread(image_path))\n",
        "cv2.imshow('Result Image', result_image)\n",
        "cv2.imwrite('/Users/nikhilvalsankulangareth/Downloads/result_image.jpg', result_image)\n",
        "cv2.waitKey(10000)\n",
        "cv2.destroyAllWindows()\n"
      ]
    }
  ]
}