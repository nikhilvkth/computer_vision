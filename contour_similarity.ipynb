{
  "nbformat": 4,
  "nbformat_minor": 0,
  "metadata": {
    "colab": {
      "provenance": [],
      "authorship_tag": "ABX9TyNd76VMvLci5KCC7laNXT2d",
      "include_colab_link": true
    },
    "kernelspec": {
      "name": "python3",
      "display_name": "Python 3"
    },
    "language_info": {
      "name": "python"
    }
  },
  "cells": [
    {
      "cell_type": "markdown",
      "metadata": {
        "id": "view-in-github",
        "colab_type": "text"
      },
      "source": [
        "<a href=\"https://colab.research.google.com/github/nikhilvkth/computer_vision/blob/main/contour_similarity.ipynb\" target=\"_parent\"><img src=\"https://colab.research.google.com/assets/colab-badge.svg\" alt=\"Open In Colab\"/></a>"
      ]
    },
    {
      "cell_type": "code",
      "execution_count": null,
      "metadata": {
        "id": "dQKdb-QdS_Qr"
      },
      "outputs": [],
      "source": [
        "from skimage.metrics import structural_similarity as ssim\n",
        "import cv2\n",
        "\n",
        "def calculate_ssim(image1, image2):\n",
        "    # Convert the images to grayscale\n",
        "    gray1 = cv2.cvtColor(image1, cv2.COLOR_BGR2GRAY)\n",
        "    gray2 = cv2.cvtColor(image2, cv2.COLOR_BGR2GRAY)\n",
        "\n",
        "    # Calculate the SSIM index\n",
        "    index = ssim(gray1, gray2)\n",
        "\n",
        "    return index\n",
        "\n",
        "# Example usage\n",
        "original_images = [cv2.imread(f'/Users/nikhilvalsankulangareth/Downloads/original_image_{i}.jpg') for i in range(1, 2)]\n",
        "contour_images = [cv2.imread(f'/Users/nikhilvalsankulangareth/Downloads/contour_result_{i}.jpg') for i in range(1, 2)]\n",
        "\n",
        "# Compare each contour result image with the corresponding original image\n",
        "for i in range(1):\n",
        "    for j in range (1):\n",
        "        ssim_index = calculate_ssim(original_images[i], original_images[j])\n",
        "\n",
        "    print(f'SSIM Index for image {i+1}: {ssim_index}')\n"
      ]
    }
  ]
}