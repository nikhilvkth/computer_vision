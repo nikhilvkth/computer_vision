{
  "nbformat": 4,
  "nbformat_minor": 0,
  "metadata": {
    "colab": {
      "provenance": [],
      "authorship_tag": "ABX9TyPfyKGAYN97qrq1LxUEoyXH",
      "include_colab_link": true
    },
    "kernelspec": {
      "name": "python3",
      "display_name": "Python 3"
    },
    "language_info": {
      "name": "python"
    }
  },
  "cells": [
    {
      "cell_type": "markdown",
      "metadata": {
        "id": "view-in-github",
        "colab_type": "text"
      },
      "source": [
        "<a href=\"https://colab.research.google.com/github/nikhilvkth/computer_vision/blob/main/image_segmentation_clustering.ipynb\" target=\"_parent\"><img src=\"https://colab.research.google.com/assets/colab-badge.svg\" alt=\"Open In Colab\"/></a>"
      ]
    },
    {
      "cell_type": "code",
      "execution_count": null,
      "metadata": {
        "id": "rjfgUNooRjEp"
      },
      "outputs": [],
      "source": [
        "import cv2\n",
        "import numpy as np\n",
        "from sklearn.cluster import KMeans\n",
        "\n",
        "def mask_image(image_path, num_clusters=2):\n",
        "    # Read the image\n",
        "    img = cv2.imread(image_path)\n",
        "    img = cv2.cvtColor(img, cv2.COLOR_BGR2RGB)\n",
        "\n",
        "    # Reshape the image to a 2D array of pixels\n",
        "    pixels = img.reshape((-1, 3))\n",
        "\n",
        "    # Perform K-means clustering\n",
        "    kmeans = KMeans(n_clusters=num_clusters)\n",
        "    kmeans.fit(pixels)\n",
        "\n",
        "    # Get the cluster labels and centers\n",
        "    labels = kmeans.labels_\n",
        "    centers = kmeans.cluster_centers_\n",
        "\n",
        "    # Create a mask using the dominant color cluster\n",
        "    dominant_label = np.argmax(np.bincount(labels))\n",
        "    mask = (labels == dominant_label).reshape(img.shape[0], img.shape[1])\n",
        "\n",
        "    # Apply the mask to the original image\n",
        "    masked_img = np.copy(img)\n",
        "    masked_img[~mask] = 0\n",
        "\n",
        "    # Display the original and masked images\n",
        "    cv2.imshow('Original Image', img)\n",
        "    cv2.imshow('Masked Image', masked_img)\n",
        "    cv2.waitKey(0)\n",
        "    cv2.destroyAllWindows()\n",
        "\n",
        "if __name__ == \"__main__\":\n",
        "    image_path = '/Users/nikhilvalsankulangareth/Downloads/forensic/original_image_1.jpg'  # Replace with the path to your image\n",
        "    num_clusters = 3  # Adjust the number of clusters as needed\n",
        "    mask_image(image_path, num_clusters)\n"
      ]
    }
  ]
}