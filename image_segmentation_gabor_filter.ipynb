{
  "nbformat": 4,
  "nbformat_minor": 0,
  "metadata": {
    "colab": {
      "provenance": [],
      "authorship_tag": "ABX9TyOPkDAYQOjA0cbqy7z0H2p+",
      "include_colab_link": true
    },
    "kernelspec": {
      "name": "python3",
      "display_name": "Python 3"
    },
    "language_info": {
      "name": "python"
    }
  },
  "cells": [
    {
      "cell_type": "markdown",
      "metadata": {
        "id": "view-in-github",
        "colab_type": "text"
      },
      "source": [
        "<a href=\"https://colab.research.google.com/github/nikhilvkth/computer_vision/blob/main/image_segmentation_gabor_filter.ipynb\" target=\"_parent\"><img src=\"https://colab.research.google.com/assets/colab-badge.svg\" alt=\"Open In Colab\"/></a>"
      ]
    },
    {
      "cell_type": "code",
      "execution_count": 1,
      "metadata": {
        "id": "SAv-iAl_sekJ"
      },
      "outputs": [],
      "source": [
        "import cv2\n",
        "import numpy as np\n",
        "from skimage import io, color\n",
        "from sklearn.cluster import KMeans\n",
        "\n",
        "\n",
        "# Read the image\n",
        "image = io.imread('/Users/nikhilvalsankulangareth/Downloads/TextureSegmentationUsingGaborFiltersExample_01.jpg')\n",
        "\n",
        "# Convert the image to grayscale\n",
        "gray_image = color.rgb2gray(image)\n",
        "\n",
        "def apply_gabor_filter(image, ksize=9, sigma=1.5, theta=0, lam=1, gamma=0.02):\n",
        "    gabor_filter = cv2.getGaborKernel((ksize, ksize), sigma, theta, lam, gamma, 0, ktype=cv2.CV_32F)\n",
        "    filtered_image = cv2.filter2D(image, cv2.CV_8UC3, gabor_filter)\n",
        "    return filtered_image\n",
        "\n",
        "gabor_result = apply_gabor_filter(gray_image)\n",
        "\n",
        "\n",
        "flattened_image = gabor_result.flatten()\n",
        "\n",
        "flattened_image = flattened_image.reshape(-1, 1)\n",
        "\n",
        "# Specify the number of clusters (segments) you want\n",
        "num_clusters = 2\n",
        "\n",
        "# Apply K-Means clustering\n",
        "kmeans = KMeans(n_clusters=num_clusters)\n",
        "kmeans.fit(flattened_image)\n",
        "\n",
        "# Get the labels assigned to each pixel\n",
        "labels = kmeans.labels_\n",
        "\n",
        "segmented_image = labels.reshape(gray_image.shape)\n",
        "io.imshow(segmented_image)\n",
        "io.show()\n",
        "io.imshow(image)\n",
        "io.show()\n"
      ]
    }
  ]
}